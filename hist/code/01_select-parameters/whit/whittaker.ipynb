{
 "cells": [
  {
   "cell_type": "raw",
   "metadata": {
    "vscode": {
     "languageId": "raw"
    }
   },
   "source": [
    "Filename:   whittaker.ipynb\n",
    "Author:     Benjamin Buchovecky\n",
    "Project:    cpl_ppe_co2\n",
    "Created on: 01/21/2025"
   ]
  },
  {
   "cell_type": "markdown",
   "metadata": {},
   "source": [
    "# Compare Whittaker biome regions between PPE forcings\n",
    "\n",
    "The example from Daniel Kennedy only uses the Whittaker biomes computed from the CTL2010 precipitation and surface temperature, but are the changes to surface temperature and precipitation in the PPEs with different forcings large enough to move the representative grid cells to new Whittaker biomes?"
   ]
  },
  {
   "cell_type": "markdown",
   "metadata": {},
   "source": [
    "# Code origin\n",
    "\n",
    "Daniel Kennedy on Github: https://github.com/djk2120/CLM5PPE/blob/master/pyth/whittaker.ipynb"
   ]
  },
  {
   "cell_type": "code",
   "execution_count": 1,
   "metadata": {},
   "outputs": [
    {
     "name": "stdout",
     "output_type": "stream",
     "text": [
      "Python implementation: CPython\n",
      "Python version       : 3.12.4\n",
      "IPython version      : 8.26.0\n",
      "\n",
      "conda environment: cpl_ppe_co2\n",
      "\n",
      "numpy     : 2.0.1\n",
      "sys       : 3.12.4 | packaged by conda-forge | (main, Jun 17 2024, 10:23:07) [GCC 12.3.0]\n",
      "pandas    : 2.2.2\n",
      "xarray    : 2024.6.0\n",
      "geopandas : 1.0.1\n",
      "matplotlib: 3.9.1\n",
      "\n"
     ]
    }
   ],
   "source": [
    "%load_ext watermark\n",
    "%load_ext autoreload\n",
    "\n",
    "import glob\n",
    "\n",
    "import numpy as np\n",
    "import pandas as pd\n",
    "import xarray as xr\n",
    "import matplotlib.pyplot as plt\n",
    "\n",
    "import geopandas as gpd\n",
    "from shapely.geometry import *\n",
    "\n",
    "import sys\n",
    "sys.path.append('/glade/u/home/bbuchovecky/projects/cpl_ppe_co2/utils')\n",
    "import cpl_ppe_co2 as ppe\n",
    "%aimport cpl_ppe_co2\n",
    "%autoreload 1\n",
    "\n",
    "%watermark -iv -co -v"
   ]
  },
  {
   "cell_type": "code",
   "execution_count": 4,
   "metadata": {},
   "outputs": [
    {
     "ename": "NameError",
     "evalue": "name 'get_ClusterClient' is not defined",
     "output_type": "error",
     "traceback": [
      "\u001b[0;31m---------------------------------------------------------------------------\u001b[0m",
      "\u001b[0;31mNameError\u001b[0m                                 Traceback (most recent call last)",
      "Cell \u001b[0;32mIn[4], line 1\u001b[0m\n\u001b[0;32m----> 1\u001b[0m \u001b[43mget_ClusterClient\u001b[49m\n",
      "\u001b[0;31mNameError\u001b[0m: name 'get_ClusterClient' is not defined"
     ]
    }
   ],
   "source": [
    "# Create Dask cluster and client, scale up to 20 workers\n",
    "cluster, client = ppe.get_ClusterClient()\n",
    "cluster.scale(20)"
   ]
  },
  {
   "cell_type": "code",
   "execution_count": null,
   "metadata": {},
   "outputs": [],
   "source": []
  }
 ],
 "metadata": {
  "kernelspec": {
   "display_name": "cpl_ppe_co2",
   "language": "python",
   "name": "python3"
  },
  "language_info": {
   "codemirror_mode": {
    "name": "ipython",
    "version": 3
   },
   "file_extension": ".py",
   "mimetype": "text/x-python",
   "name": "python",
   "nbconvert_exporter": "python",
   "pygments_lexer": "ipython3",
   "version": "3.12.4"
  }
 },
 "nbformat": 4,
 "nbformat_minor": 2
}
