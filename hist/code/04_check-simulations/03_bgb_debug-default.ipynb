{
 "cells": [
  {
   "cell_type": "raw",
   "id": "7dd87646",
   "metadata": {
    "vscode": {
     "languageId": "raw"
    }
   },
   "source": [
    "Filename:   03_bgb_debug-defaul.ipynb\n",
    "Author:     Benjamin Buchovecky\n",
    "Project:    cpl_ppe_co2\n",
    "Created on: 07/06/2025"
   ]
  },
  {
   "cell_type": "markdown",
   "id": "2125dfb9",
   "metadata": {},
   "source": [
    "# 1. Setup"
   ]
  },
  {
   "cell_type": "code",
   "execution_count": 2,
   "id": "f99dae63",
   "metadata": {},
   "outputs": [
    {
     "name": "stdout",
     "output_type": "stream",
     "text": [
      "Python implementation: CPython\n",
      "Python version       : 3.12.10\n",
      "IPython version      : 9.2.0\n",
      "\n",
      "conda environment: cpl_ppe_co2\n",
      "\n",
      "pandas    : 2.2.2\n",
      "cartopy   : 0.24.1\n",
      "cmocean   : 4.0.3\n",
      "sys       : 3.12.10 | packaged by conda-forge | (main, Apr 10 2025, 22:21:13) [GCC 13.3.0]\n",
      "matplotlib: 3.9.1\n",
      "xarray    : 2025.4.0\n",
      "numpy     : 2.0.1\n",
      "\n"
     ]
    }
   ],
   "source": [
    "%load_ext watermark\n",
    "\n",
    "import warnings\n",
    "from glob import glob\n",
    "import numpy as np\n",
    "import pandas as pd\n",
    "import xarray as xr\n",
    "from scipy.stats import linregress\n",
    "import matplotlib.pyplot as plt\n",
    "import cartopy\n",
    "import cartopy.crs as ccrs\n",
    "import cmocean.cm as cmo\n",
    "\n",
    "%watermark -iv -co -v"
   ]
  },
  {
   "cell_type": "code",
   "execution_count": 3,
   "id": "75bf7691",
   "metadata": {},
   "outputs": [],
   "source": [
    "xr.set_options(display_expand_attrs=False, display_expand_data=False);\n",
    "plt.rcParams['figure.dpi'] = 120;"
   ]
  },
  {
   "cell_type": "code",
   "execution_count": null,
   "id": "54251e67",
   "metadata": {},
   "outputs": [],
   "source": []
  },
  {
   "cell_type": "markdown",
   "id": "77c30ac2",
   "metadata": {},
   "source": [
    "# CLM restart files\n",
    "\n",
    "Variables of interest:\n",
    "* canopy structure: htop, hbot, tlai\n",
    "* carbon pools: leafc, "
   ]
  },
  {
   "cell_type": "code",
   "execution_count": 4,
   "id": "bc8513b5",
   "metadata": {},
   "outputs": [],
   "source": [
    "init_dir = \"/glade/derecho/scratch/bbuchovecky/coupPPE-hist/init\"\n",
    "branch_case = \"b.e21.BHIST.f19_g17.CMIP6-historical-2deg.001\"\n",
    "\n",
    "with warnings.catch_warnings():\n",
    "    warnings.simplefilter(\"ignore\")\n",
    "    clm_init = xr.open_dataset(f\"{init_dir}/{branch_case}/1950-01-01/{branch_case}.clm2.r.1950-01-01-00000.nc\")"
   ]
  },
  {
   "cell_type": "code",
   "execution_count": null,
   "id": "42d2468d",
   "metadata": {},
   "outputs": [],
   "source": []
  },
  {
   "cell_type": "code",
   "execution_count": 5,
   "id": "28a17163",
   "metadata": {},
   "outputs": [
    {
     "name": "stdout",
     "output_type": "stream",
     "text": [
      "deadstemc\n",
      "deadstemc_13\n",
      "deadstemc_14\n",
      "deadstemc_storage\n",
      "deadstemc_storage_13\n",
      "deadstemc_storage_14\n",
      "deadstemc_xfer\n",
      "deadstemc_xfer_13\n",
      "deadstemc_xfer_14\n",
      "livestemc\n",
      "livestemc_13\n",
      "livestemc_14\n",
      "livestemc_storage\n",
      "livestemc_storage_13\n",
      "livestemc_storage_14\n",
      "livestemc_to_litter\n",
      "livestemc_xfer\n",
      "livestemc_xfer_13\n",
      "livestemc_xfer_14\n"
     ]
    }
   ],
   "source": [
    "key = \"stemc\"\n",
    "\n",
    "for v in sorted(clm_init.variables):\n",
    "    if key in v:\n",
    "        print(v)"
   ]
  },
  {
   "cell_type": "code",
   "execution_count": null,
   "id": "ae335cae",
   "metadata": {},
   "outputs": [],
   "source": []
  },
  {
   "cell_type": "markdown",
   "id": "88dfd85b",
   "metadata": {},
   "source": [
    "# Differences in parameters between CMIP and coupPPE"
   ]
  },
  {
   "cell_type": "code",
   "execution_count": 6,
   "id": "f4d02e2b",
   "metadata": {},
   "outputs": [],
   "source": [
    "cmip_pfile = xr.open_dataset('/glade/p/cesmdata/cseg/inputdata/lnd/clm2/paramdata/clm5_params.c171117.nc', decode_timedelta=False)\n",
    "piso_pfile = xr.open_dataset('/glade/u/home/czarakas/coupled_PPE/data/paramfiles/OAAT0000.nc', decode_timedelta=False)\n",
    "\n",
    "with open(\"lnd_in_CMIP6-AMIP-2deg\", \"r\") as f:\n",
    "    cmip_nml = f.read()\n",
    "\n",
    "with open(\"lnd_in_coupPPE.000\", \"r\") as f:\n",
    "    piso_nml = f.read()\n",
    "\n",
    "cmip_pname = set(cmip_pfile.variables)\n",
    "piso_pname = set(piso_pfile.variables)"
   ]
  },
  {
   "cell_type": "code",
   "execution_count": 8,
   "id": "e0106573",
   "metadata": {},
   "outputs": [
    {
     "name": "stdout",
     "output_type": "stream",
     "text": [
      "264\n",
      "375\n",
      "111\n"
     ]
    }
   ],
   "source": [
    "print(len(cmip_pname))\n",
    "print(len(piso_pname))\n",
    "\n",
    "print(len(piso_pname) - len(cmip_pname))"
   ]
  },
  {
   "cell_type": "code",
   "execution_count": null,
   "id": "fb68048b",
   "metadata": {},
   "outputs": [
    {
     "name": "stdout",
     "output_type": "stream",
     "text": [
      "params in cmip and not in piso:\n",
      " {'psi_soil_ref', 'k_nitr_max'}\n"
     ]
    }
   ],
   "source": [
    "cmip_not_in_piso = cmip_pname - piso_pname\n",
    "print(\"params in cmip and not in piso:\\n\", cmip_not_in_piso)"
   ]
  },
  {
   "cell_type": "code",
   "execution_count": null,
   "id": "649d3e90",
   "metadata": {},
   "outputs": [
    {
     "name": "stdout",
     "output_type": "stream",
     "text": [
      "params in piso and not in cmip:\n",
      " {'watsat_adjustfactor', 'watsat_sf', 'zbedrock', 'k_nitr_max_perday', 'crit_onset_gdd_sf', 'jmaxse_sf', 'biofuel_harvfrac', 'snow_canopy_storage_scalar', 'relhExp', 'variantnames', 'wc2wjb0', 'cv', 'fnps', 'pd', 'theta_cj', 'kcha', 'act25', 'eta0_anderson', 'kc25_coef', 'liq_canopy_storage_scalar', 'taper', 'zbedrock_sf', 'wind_snowcompact_fact', 'lai_dl', 'clay_pf', 'csol_clay', 'jmaxb0', 'snowcan_unload_temp_fact', 'csoilc', 'rho_max', 'slopebeta', 'tpu25ratio', 'tpuha', 'zlnd', 'd_max', 'koha', 'sucsat_sf', 'jmaxhd', 'nstem', 'rswf_min', 'lmrhd', 'snw_rds_refrz', 'scvng_fct_mlt_sf', 'tkd_sand', 'fbw', 'theta_psii', 'pc', 'perched_baseflow_scalar', 'drift_gs', 'denitrif_respiration_exponent', 'hksat_sf', 'theta_ip', 'tkd_om', 'cpha', 'denitrif_nitrateconc_exponent', 'rswf_max', 'cp25_yr2000', 'season_decid_temperate', 'jmaxha', 'eta0_vionnet', 'ssi', 'denitrif_respiration_coefficient', 'dbh', 'aq_sp_yield_min', 'ko25_coef', 'wood_density', 'a_exp', 'vcmaxse_sf', 'prh30', 'enzyme_turnover_daily', 'C2_liq_Brun89', 'hksat_adjustfactor', 'a_coef', 'ceta', 'wind_min', 'denitrif_nitrateconc_coefficient', 'xdrdt', 'sucsat_adjustfactor', 'mu', 'tkd_clay', 'slopemax', 'luna_theta_cj', 'n_melt_coef', 'tpuhd', 'fff', 'phenology_soil_depth', 'z_dl', 'tpuse_sf', 'n_baseflow', 'csol_om', 'sand_pf', 'frac_sat_soil_dsl_init', 'vcmaxhd', 'e_ice', 'bsw_adjustfactor', 'kp25ratio', 'lmrha', 'bsw_sf', 'jmax25top_sf', 'ignition_efficiency', 'wimp', 'snowcan_unload_wind_fact', 'vcmaxha', 'rstem', 'csol_sand', 'minrelh', 'fnr', 'tau_ref', 'tkm_om', 'accum_factor', 'om_frac_sf', 'zsno', 'lmrse'}\n"
     ]
    }
   ],
   "source": [
    "piso_not_in_cmip = piso_pname - cmip_pname\n",
    "print(\"params in piso and not in cmip:\\n\", piso_not_in_cmip)"
   ]
  },
  {
   "cell_type": "code",
   "execution_count": null,
   "id": "74be3b84",
   "metadata": {},
   "outputs": [],
   "source": []
  },
  {
   "cell_type": "code",
   "execution_count": 25,
   "id": "30279c16",
   "metadata": {},
   "outputs": [
    {
     "name": "stdout",
     "output_type": "stream",
     "text": [
      "pd in piso nml\n",
      "pd in cmip nml\n",
      "pc in piso nml\n",
      "pc in cmip nml\n",
      "mu in piso nml\n",
      "mu in cmip nml\n"
     ]
    }
   ],
   "source": [
    "for p in piso_not_in_cmip:\n",
    "    if p in piso_nml:\n",
    "        print(p, \"in piso nml\")\n",
    "    if p in cmip_nml:\n",
    "        print(p, \"in cmip nml\")"
   ]
  },
  {
   "cell_type": "code",
   "execution_count": null,
   "id": "353ffd52",
   "metadata": {},
   "outputs": [],
   "source": []
  },
  {
   "cell_type": "code",
   "execution_count": null,
   "id": "79cc92cc",
   "metadata": {},
   "outputs": [],
   "source": []
  },
  {
   "cell_type": "code",
   "execution_count": null,
   "id": "82380549",
   "metadata": {},
   "outputs": [],
   "source": []
  },
  {
   "cell_type": "markdown",
   "id": "486ccfa2",
   "metadata": {},
   "source": [
    "# Differences in SSTs / boundary conditions between CMIP and coupPPE"
   ]
  },
  {
   "cell_type": "code",
   "execution_count": null,
   "id": "e88499b5",
   "metadata": {},
   "outputs": [],
   "source": []
  }
 ],
 "metadata": {
  "kernelspec": {
   "display_name": "cpl_ppe_co2",
   "language": "python",
   "name": "python3"
  },
  "language_info": {
   "codemirror_mode": {
    "name": "ipython",
    "version": 3
   },
   "file_extension": ".py",
   "mimetype": "text/x-python",
   "name": "python",
   "nbconvert_exporter": "python",
   "pygments_lexer": "ipython3",
   "version": "3.12.10"
  }
 },
 "nbformat": 4,
 "nbformat_minor": 5
}
