{
 "cells": [
  {
   "cell_type": "raw",
   "id": "0dd2af9b",
   "metadata": {
    "vscode": {
     "languageId": "raw"
    }
   },
   "source": [
    "Filename:   03_bgb_create-runscripts.ipynb\n",
    "Author:     Benjamin Buchovecky\n",
    "Project:    cpl_ppe_co2\n",
    "Created on: 04/10/2025"
   ]
  },
  {
   "cell_type": "markdown",
   "id": "ae3f60b6",
   "metadata": {},
   "source": [
    "# 1. Setup"
   ]
  },
  {
   "cell_type": "code",
   "execution_count": 1,
   "id": "e4de12ed",
   "metadata": {},
   "outputs": [
    {
     "name": "stdout",
     "output_type": "stream",
     "text": [
      "Python implementation: CPython\n",
      "Python version       : 3.12.10\n",
      "IPython version      : 9.2.0\n",
      "\n",
      "conda environment: cpl_ppe_co2\n",
      "\n",
      "numpy : 2.0.1\n",
      "xarray: 2025.4.0\n",
      "pandas: 2.2.2\n",
      "sys   : 3.12.10 | packaged by conda-forge | (main, Apr 10 2025, 22:21:13) [GCC 13.3.0]\n",
      "\n"
     ]
    }
   ],
   "source": [
    "%load_ext watermark\n",
    "\n",
    "import glob\n",
    "import datetime\n",
    "import numpy as np\n",
    "import pandas as pd\n",
    "import xarray as xr\n",
    "\n",
    "%watermark -iv -co -v"
   ]
  },
  {
   "cell_type": "markdown",
   "id": "09ea37cf",
   "metadata": {},
   "source": [
    "# 2. Define configuration and path management"
   ]
  },
  {
   "cell_type": "code",
   "execution_count": 2,
   "id": "b9fef6d9",
   "metadata": {},
   "outputs": [
    {
     "name": "stdout",
     "output_type": "stream",
     "text": [
      "Claire's CESM source code: /glade/u/home/czarakas/cesm_source/cesm_coupled_PPEn11\n",
      "CESM tag: cesm2.2.0\n",
      "CLM  tag: branch_tags/PPE.n11_ctsm5.1.dev030\n",
      "CAM  tag: cam_cesm2_2_rel_02\n",
      "\n",
      "my CESM source code: /glade/u/home/bbuchovecky/cesm_source/cesm_coupled_PPEn11\n",
      "CESM tag: cesm2.2.0\n",
      "CLM  tag: branch_tags/PPE.n11_ctsm5.1.dev030\n",
      "CAM  tag: cam_cesm2_2_rel_02\n",
      "\n",
      "CASE_DIR:    /glade/u/home/bbuchovecky/cesm_runs/cases/cpl_ppe_co2/test_simulations\n",
      "ARCHIVE_DIR: /glade/derecho/scratch/bbuchovecky/archive/cpl_ppe_co2/test_simulations\n",
      "RUN_DIR:     /glade/derecho/scratch/bbuchovecky\n"
     ]
    }
   ],
   "source": [
    "# Claire's source code to check versions against\n",
    "claire_srcdir = '/glade/u/home/czarakas/cesm_source/cesm_coupled_PPEn11'\n",
    "print(f\"Claire's CESM source code: {claire_srcdir}\")\n",
    "print('CESM tag:', end=' ')\n",
    "!cd $claire_srcdir && git describe --tags\n",
    "print('CLM  tag:', end=' ')\n",
    "!cd $claire_srcdir/components/clm && git describe --tags\n",
    "print('CAM  tag:', end=' ')\n",
    "!cd $claire_srcdir/components/cam && git describe --tags\n",
    "\n",
    "# Source code to use to run model\n",
    "my_srcdir = '/glade/u/home/bbuchovecky/cesm_source/cesm_coupled_PPEn11'\n",
    "print(f\"\\nmy CESM source code: {my_srcdir}\")\n",
    "print('CESM tag:', end=' ')\n",
    "!cd $my_srcdir && git describe --tags\n",
    "print('CLM  tag:', end=' ')\n",
    "!cd $my_srcdir/components/clm && git describe --tags\n",
    "print('CAM  tag:', end=' ')\n",
    "!cd $my_srcdir/components/cam && git describe --tags\n",
    "\n",
    "# Where you want to put the new folder for the case (where you change things like the \n",
    "# namelist, how long to run it, then do case.build, case.submit etc.)\n",
    "# my_casedir = '/glade/u/home/bbuchovecky/cesm_runs/cases'\n",
    "my_casedir = '/glade/u/home/bbuchovecky/cesm_runs/cases/cpl_ppe_co2/test_simulations'\n",
    "\n",
    "# Where the output of the runs should be archived\n",
    "# my_archivedir = '/glade/derecho/scratch/bbuchovecky/archive'\n",
    "my_archivedir = '/glade/derecho/scratch/bbuchovecky/archive/cpl_ppe_co2/test_simulations'\n",
    "\n",
    "# Where to put the run folder (where log files will go, etc.)\n",
    "my_rundir = '/glade/derecho/scratch/bbuchovecky'\n",
    "\n",
    "# Where you want to save the runscripts that this script will generate\n",
    "# this can be anything, just make sure the folder exists!\n",
    "runscript_path = '/glade/u/home/bbuchovecky/projects/cpl_ppe_co2/hist/code/03_run-scripts'\n",
    "\n",
    "# Where to find ensemble member parameter files\n",
    "paramfile_path = '/glade/u/home/bbuchovecky/projects/cpl_ppe_co2/hist/data/paramfiles'\n",
    "\n",
    "# Where to find ensemble member namelist files\n",
    "namelistmod_path = '/glade/u/home/bbuchovecky/projects/cpl_ppe_co2/hist/data/namelist_mods'\n",
    "\n",
    "# The template to use to make the runscripts\n",
    "template_file = './runscript.TEMPLATE'\n",
    "\n",
    "print(f'\\nCASE_DIR:    {my_casedir}')\n",
    "print(f'ARCHIVE_DIR: {my_archivedir}')\n",
    "print(f'RUN_DIR:     {my_rundir}')"
   ]
  },
  {
   "cell_type": "code",
   "execution_count": null,
   "id": "f77b10bb",
   "metadata": {},
   "outputs": [],
   "source": []
  },
  {
   "cell_type": "markdown",
   "id": "45ffd861",
   "metadata": {},
   "source": [
    "# 3. Brief check of parameter files"
   ]
  },
  {
   "cell_type": "code",
   "execution_count": 5,
   "id": "0da8af15",
   "metadata": {},
   "outputs": [],
   "source": [
    "p0 = xr.open_dataset(\"/glade/u/home/czarakas/coupled_PPE/data/paramfiles/OAAT0000.nc\", decode_timedelta=False)\n",
    "p1 = xr.open_dataset(\"/glade/u/home/bbuchovecky/projects/cpl_ppe_co2/hist/data/paramfiles/COUP0000.nc\", decode_timedelta=False)\n",
    "p2 = xr.open_dataset(\"/glade/u/home/bbuchovecky/projects/cpl_ppe_co2/hist/data/paramfiles/coupPPE-hist.000.nc\", decode_timedelta=False)"
   ]
  },
  {
   "cell_type": "code",
   "execution_count": 15,
   "id": "ca479145",
   "metadata": {},
   "outputs": [],
   "source": [
    "for var in p1.variables:\n",
    "    if var in p0.variables:\n",
    "        # Check if variable is string type\n",
    "        if p1[var].dtype.kind in ['U', 'S', 'O']:  # Unicode, byte string, or object arrays\n",
    "            are_equal = np.array_equal(p1[var].values, p0[var].values)\n",
    "        else:\n",
    "            are_equal = np.array_equal(p1[var].values, p0[var].values, equal_nan=True)\n",
    "        \n",
    "        if not are_equal:\n",
    "            print(f\"{var}: {are_equal}\")\n",
    "    else:\n",
    "        print(f\"{var}: not found in p0\")"
   ]
  },
  {
   "cell_type": "code",
   "execution_count": 19,
   "id": "713a0b67",
   "metadata": {},
   "outputs": [],
   "source": [
    "for var in p1.variables:\n",
    "    if var in p2.variables:\n",
    "        # Check if variable is string type\n",
    "        if p1[var].dtype.kind in ['U', 'S', 'O']:  # Unicode, byte string, or object arrays\n",
    "            are_equal = np.array_equal(p1[var].values, p2[var].values)\n",
    "        else:\n",
    "            are_equal = np.array_equal(p1[var].values, p2[var].values, equal_nan=True)\n",
    "        \n",
    "        if not are_equal:\n",
    "            print(f\"{var}: {are_equal}\")\n",
    "    else:\n",
    "        print(f\"{var}: not found in p2\")"
   ]
  },
  {
   "cell_type": "code",
   "execution_count": 17,
   "id": "4d476708",
   "metadata": {},
   "outputs": [
    {
     "name": "stdout",
     "output_type": "stream",
     "text": [
      "pftname arrays are equal: True\n"
     ]
    }
   ],
   "source": [
    "var = \"pftname\"\n",
    "if p1[var].dtype.kind in ['U', 'S', 'O']:  # Unicode, byte string, or object arrays\n",
    "    are_equal = np.array_equal(p1[var].values, p0[var].values)\n",
    "else:\n",
    "    are_equal = np.array_equal(p1[var].values, p0[var].values, equal_nan=True)\n",
    "print(f\"{var} arrays are equal: {are_equal}\")"
   ]
  },
  {
   "cell_type": "code",
   "execution_count": null,
   "id": "c6e16bbf",
   "metadata": {},
   "outputs": [],
   "source": []
  },
  {
   "cell_type": "markdown",
   "id": "a00c824c",
   "metadata": {},
   "source": [
    "# 4. Choose naming convention"
   ]
  },
  {
   "cell_type": "code",
   "execution_count": 2,
   "id": "aaac6cba",
   "metadata": {},
   "outputs": [
    {
     "name": "stdout",
     "output_type": "stream",
     "text": [
      "MAIN RUNS:\n",
      "\tf.e21.FHIST_BGC.f19_f19_mg17.coupPPE-hist.000\n",
      "\tf.e21.FHIST_BGC.f19_f19_mg17.offlPPE-ssp370.000\n",
      "\n",
      "\trunscript.f.e21.FHIST_BGC.f19_f19_mg17.coupPPE-hist.000\n",
      "\trunscript.f.e21.FHIST_BGC.f19_f19_mg17.offlPPE-ssp370.000\n",
      "\n",
      "TEST RUNS:\n",
      "\tf.e21.FHIST_BGC.f19_f19_mg17.coupPPE-hist-nsteps2.000\n",
      "\tf.e21.FHIST_BGC.f19_f19_mg17.coupPPE-hist-ndays2.000\n",
      "\tf.e21.FHIST_BGC.f19_f19_mg17.coupPPE-hist-nmonths2.000\n",
      "\n",
      "\trunscript.coupPPE-hist-2steps.000.2025-07-03\n",
      "\trunscript.coupPPE-hist-2days.000.2025-07-03\n",
      "\trunscript.coupPPE-hist-2months.000.2025-07-03\n"
     ]
    }
   ],
   "source": [
    "n = 0\n",
    "\n",
    "nstring = str(n).zfill(3)\n",
    "cmps = \"FHIST_BGC\"\n",
    "lcmps = cmps[0].lower()\n",
    "vcesm = \"e21\"\n",
    "res = \"f19_f19_mg17\"\n",
    "prefix = f\"{lcmps}.{vcesm}.{cmps}.{res}\"\n",
    "\n",
    "datetag = datetime.datetime.now().strftime('%Y-%m-%d')\n",
    "\n",
    "print(\"MAIN RUNS:\")\n",
    "\n",
    "print(f\"\\t{prefix}.coupPPE-hist.{nstring}\")\n",
    "print(f\"\\t{prefix}.offlPPE-ssp370.{nstring}\")\n",
    "\n",
    "print()\n",
    "\n",
    "print(f\"\\trunscript.{prefix}.coupPPE-hist.{nstring}\")\n",
    "print(f\"\\trunscript.{prefix}.offlPPE-ssp370.{nstring}\")\n",
    "\n",
    "print(\"\\nTEST RUNS:\")\n",
    "\n",
    "print(f\"\\t{prefix}.coupPPE-hist-nsteps2.000\")\n",
    "print(f\"\\t{prefix}.coupPPE-hist-ndays2.000\")\n",
    "print(f\"\\t{prefix}.coupPPE-hist-nmonths2.000\")\n",
    "\n",
    "print()\n",
    "\n",
    "print(f\"\\trunscript.coupPPE-hist-2steps.000.{datetag}\")\n",
    "print(f\"\\trunscript.coupPPE-hist-2days.000.{datetag}\")\n",
    "print(f\"\\trunscript.coupPPE-hist-2months.000.{datetag}\")"
   ]
  },
  {
   "cell_type": "code",
   "execution_count": null,
   "id": "86c936ef",
   "metadata": {},
   "outputs": [],
   "source": []
  },
  {
   "cell_type": "markdown",
   "id": "2cd33a81",
   "metadata": {},
   "source": [
    "# 5. Generate run scripts"
   ]
  },
  {
   "cell_type": "code",
   "execution_count": 2,
   "id": "b82c33bb",
   "metadata": {},
   "outputs": [
    {
     "name": "stdout",
     "output_type": "stream",
     "text": [
      "Claire's CESM source code: /glade/u/home/czarakas/cesm_source/cesm_coupled_PPEn11\n",
      "CESM tag: cesm2.2.0\n",
      "CLM  tag: branch_tags/PPE.n11_ctsm5.1.dev030\n",
      "CAM  tag: cam_cesm2_2_rel_02\n",
      "\n",
      "my CESM source code: /glade/u/home/bbuchovecky/cesm_source/cesm_coupled_PPEn11\n",
      "CESM tag: cesm2.2.0\n",
      "CLM  tag: branch_tags/PPE.n11_ctsm5.1.dev030\n",
      "CAM  tag: cam_cesm2_2_rel_02\n"
     ]
    }
   ],
   "source": [
    "# Claire's source code to check versions against\n",
    "claire_srcdir = '/glade/u/home/czarakas/cesm_source/cesm_coupled_PPEn11'\n",
    "print(f\"Claire's CESM source code: {claire_srcdir}\")\n",
    "print('CESM tag:', end=' ')\n",
    "!cd $claire_srcdir && git describe --tags\n",
    "print('CLM  tag:', end=' ')\n",
    "!cd $claire_srcdir/components/clm && git describe --tags\n",
    "print('CAM  tag:', end=' ')\n",
    "!cd $claire_srcdir/components/cam && git describe --tags\n",
    "\n",
    "# Source code to use to run model\n",
    "my_srcdir = '/glade/u/home/bbuchovecky/cesm_source/cesm_coupled_PPEn11'\n",
    "print(f\"\\nmy CESM source code: {my_srcdir}\")\n",
    "print('CESM tag:', end=' ')\n",
    "!cd $my_srcdir && git describe --tags\n",
    "print('CLM  tag:', end=' ')\n",
    "!cd $my_srcdir/components/clm && git describe --tags\n",
    "print('CAM  tag:', end=' ')\n",
    "!cd $my_srcdir/components/cam && git describe --tags"
   ]
  },
  {
   "cell_type": "code",
   "execution_count": null,
   "id": "4e12f7e8",
   "metadata": {},
   "outputs": [],
   "source": []
  },
  {
   "cell_type": "markdown",
   "id": "d8566c8b",
   "metadata": {},
   "source": [
    "## 5.1. Default\n",
    "!! I made a mistake with the naming of the default run and wrote `f19_f17_mg17` instead of `f19_f19_mg17`. This is fixed in the rest of the perturbed parameter runs."
   ]
  },
  {
   "cell_type": "code",
   "execution_count": null,
   "id": "778fcb25",
   "metadata": {},
   "outputs": [
    {
     "name": "stdout",
     "output_type": "stream",
     "text": [
      "\n",
      "CASE_DIR:    /glade/u/home/bbuchovecky/cesm_runs/cases/cpl_ppe_co2/coupled_simulations\n",
      "ARCHIVE_DIR: /glade/derecho/scratch/bbuchovecky/archive/cpl_ppe_co2/coupled_simulations\n",
      "RUN_DIR:     /glade/derecho/scratch/bbuchovecky\n",
      "/glade/u/home/bbuchovecky/projects/cpl_ppe_co2/hist/code/03_run-scripts/runscript.coupPPE-hist.000.250620\n",
      "/glade/u/home/bbuchovecky/projects/cpl_ppe_co2/hist/code/03_run-scripts/runscript.coupPPE-hist.000.250622-continue\n",
      "/glade/u/home/bbuchovecky/projects/cpl_ppe_co2/hist/code/03_run-scripts/runscript.coupPPE-hist.000.250623\n",
      "/glade/u/home/bbuchovecky/projects/cpl_ppe_co2/hist/code/03_run-scripts/test_simulations\n"
     ]
    }
   ],
   "source": [
    "n = 0\n",
    "my_casedescr = 'coupPPE-hist'\n",
    "\n",
    "nstring = str(n).zfill(3)\n",
    "cmps = \"FHIST_BGC\"\n",
    "lcmps = cmps[0].lower()\n",
    "vcesm = \"e22\"\n",
    "# res = \"f19_f19_mg17\"\n",
    "res = \"f19_f17_mg17\"\n",
    "prefix = f\"{lcmps}.{vcesm}.{cmps}.{res}\"\n",
    "my_casename = f'{prefix}.{my_casedescr}.{nstring}'\n",
    "\n",
    "# Where you want to put the new folder for the case (where you change things like the \n",
    "# namelist, how long to run it, then do case.build, case.submit etc.)\n",
    "# my_casedir = '/glade/u/home/bbuchovecky/cesm_runs/cases'\n",
    "my_casedir = '/glade/u/home/bbuchovecky/cesm_runs/cases/coupPPE-hist/coupled_simulations'\n",
    "\n",
    "# Where the output of the runs should be archived\n",
    "# probably /glade/scratch/USERNAME/archive/\n",
    "# my_archivedir = '/glade/derecho/scratch/bbuchovecky/archive'\n",
    "my_archivedir = '/glade/derecho/scratch/bbuchovecky/archive/coupPPE-hist/coupled_simulations'\n",
    "\n",
    "# Where to put the run folder (where log files will go, etc.)\n",
    "# probably /glade/scratch/USERNAME\n",
    "my_rundir = '/glade/derecho/scratch/bbuchovecky'\n",
    "\n",
    "# Where you want to save the runscripts that this script will generate\n",
    "# this can be anything, just make sure the folder exists!\n",
    "runscript_path = '/glade/u/home/bbuchovecky/projects/cpl_ppe_co2/hist/code/03_run-scripts'\n",
    "\n",
    "# Where to find ensemble member parameter files\n",
    "paramfile_path = '/glade/u/home/bbuchovecky/projects/cpl_ppe_co2/hist/data/paramfiles'\n",
    "\n",
    "# Where to find ensemble member namelist files\n",
    "namelistmod_path = '/glade/u/home/bbuchovecky/projects/cpl_ppe_co2/hist/data/namelist_mods'\n",
    "\n",
    "# The template to use to make the runscripts\n",
    "template_file = './runscript.TEMPLATE'\n",
    "\n",
    "print(f'\\nCASE_DIR:    {my_casedir}')\n",
    "print(f'ARCHIVE_DIR: {my_archivedir}')\n",
    "print(f'RUN_DIR:     {my_rundir}')\n",
    "\n",
    "this_paramfile = '/glade/u/home/bbuchovecky/projects/cpl_ppe_co2/hist/data/paramfiles/param.coupPPE-hist.000.nc'\n",
    "this_namelist = '/glade/u/home/bbuchovecky/projects/cpl_ppe_co2/hist/data/namelist_mods/user_nl_clm_coupPPE-hist.000'\n",
    "\n",
    "datetag = datetime.datetime.now().strftime('%y%m%d')\n",
    "fout = f'{runscript_path}/runscript.{my_casedescr}.{nstring}.{datetag}'\n",
    "\n",
    "notes = f'# {datetime.datetime.now().strftime(\"%y-%m-%dT%H:%M:%S\")}\\n# bbuchovecky'\n",
    "\n",
    "f = open(template_file, 'r')\n",
    "fdata = f.read()\n",
    "f.close()\n",
    "\n",
    "newdata =   fdata.replace('TEMPLATE_CASENAME',   my_casename)\n",
    "newdata = newdata.replace('TEMPLATE_SRCDIR',     my_srcdir)\n",
    "newdata = newdata.replace('TEMPLATE_CASEDIR',    my_casedir)\n",
    "newdata = newdata.replace('TEMPLATE_ARCHDIR',    my_archivedir)\n",
    "newdata = newdata.replace('TEMPLATE_RUNDIR',     my_rundir)\n",
    "newdata = newdata.replace('TEMPLATE_PARAMFILE',  this_paramfile)\n",
    "newdata = newdata.replace('TEMPLATE_NAMELIST',   this_namelist)\n",
    "newdata = newdata.replace('TEMPLATE_FILENAME',   fout)\n",
    "newdata = newdata.replace('# INSERT NOTES HERE', notes)\n",
    "\n",
    "if f not in glob.glob(f'{runscript_path}/*'):\n",
    "    f = open(fout, 'w')\n",
    "    f.write(newdata)\n",
    "    f.close()\n",
    "else:\n",
    "    print(\"file already exists\")\n",
    "\n",
    "# Make the script executable\n",
    "!chmod +x $fout\n",
    "\n",
    "for f in sorted(glob.glob(f'{runscript_path}/*')):\n",
    "    print(f)"
   ]
  },
  {
   "cell_type": "code",
   "execution_count": null,
   "id": "3d218696",
   "metadata": {},
   "outputs": [],
   "source": []
  },
  {
   "cell_type": "markdown",
   "id": "fd8c5154",
   "metadata": {},
   "source": [
    "## 5.2. Perturbed"
   ]
  },
  {
   "cell_type": "code",
   "execution_count": null,
   "id": "73416728",
   "metadata": {},
   "outputs": [
    {
     "name": "stdout",
     "output_type": "stream",
     "text": [
      "\n",
      "CASE_DIR:    /glade/u/home/bbuchovecky/cesm_runs/cases/coupPPE-hist/coupled_simulations\n",
      "ARCHIVE_DIR: /glade/derecho/scratch/bbuchovecky/archive/coupPPE-hist/coupled_simulations\n",
      "RUN_DIR:     /glade/derecho/scratch/bbuchovecky\n",
      "total 34\n",
      "32 -rwxr-xr-x 1 bbuchovecky uwas0155 11212 Jun 23 09:41 runscript.coupPPE-hist.000.250623\n",
      " 1 -rwxr-xr-x 1 bbuchovecky uwas0155  3261 Jun 23 23:32 runscript.coupPPE-hist.000.250623-continue\n",
      " 1 drwxr-xr-x 2 bbuchovecky uwas0155  4096 Jun 28 14:49 test_simulations\n",
      "/glade/u/home/bbuchovecky/projects/cpl_ppe_co2/hist/code/03_run-scripts/runscript.coupPPE-hist.000.250623\n",
      "/glade/u/home/bbuchovecky/projects/cpl_ppe_co2/hist/code/03_run-scripts/runscript.coupPPE-hist.000.250623-continue\n",
      "/glade/u/home/bbuchovecky/projects/cpl_ppe_co2/hist/code/03_run-scripts/test_simulations\n"
     ]
    }
   ],
   "source": [
    "crosswalk = pd.read_csv(\"coupPPE-hist_OAAT.csv\", names=[\"casename\", \"param\", \"minmax\"])\n",
    "\n",
    "pdir = \"/glade/u/home/bbuchovecky/projects/cpl_ppe_co2/hist/data/paramfiles\"\n",
    "ndir = \"/glade/u/home/bbuchovecky/projects/cpl_ppe_co2/hist/data/namelist_mods\"\n",
    "\n",
    "cmps = \"FHIST_BGC\"\n",
    "lcmps = cmps[0].lower()\n",
    "vcesm = \"e22\"\n",
    "res = \"f19_f19_mg17\"\n",
    "prefix = f\"{lcmps}.{vcesm}.{cmps}.{res}\"\n",
    "\n",
    "# Where you want to put the new folder for the case (where you change things like the \n",
    "# namelist, how long to run it, then do case.build, case.submit etc.)\n",
    "# my_casedir = '/glade/u/home/bbuchovecky/cesm_runs/cases'\n",
    "my_casedir = '/glade/u/home/bbuchovecky/cesm_runs/cases/coupPPE-hist/coupled_simulations'\n",
    "\n",
    "# Where the output of the runs should be archived\n",
    "# probably /glade/scratch/USERNAME/archive/\n",
    "# my_archivedir = '/glade/derecho/scratch/bbuchovecky/archive'\n",
    "my_archivedir = '/glade/derecho/scratch/bbuchovecky/archive/coupPPE-hist/coupled_simulations'\n",
    "\n",
    "# Where to put the run folder (where log files will go, etc.)\n",
    "# probably /glade/scratch/USERNAME\n",
    "my_rundir = '/glade/derecho/scratch/bbuchovecky'\n",
    "\n",
    "# Where you want to save the runscripts that this script will generate\n",
    "# this can be anything, just make sure the folder exists!\n",
    "runscript_path = '/glade/u/home/bbuchovecky/projects/cpl_ppe_co2/hist/code/03_run-scripts'\n",
    "\n",
    "# Where to find ensemble member parameter files\n",
    "paramfile_path = '/glade/u/home/bbuchovecky/projects/cpl_ppe_co2/hist/data/paramfiles'\n",
    "\n",
    "# Where to find ensemble member namelist files\n",
    "namelistmod_path = '/glade/u/home/bbuchovecky/projects/cpl_ppe_co2/hist/data/namelist_mods'\n",
    "\n",
    "# The template to use to make the runscripts\n",
    "template_file = './runscript.TEMPLATE'\n",
    "\n",
    "print(f'\\nCASE_DIR:    {my_casedir}')\n",
    "print(f'ARCHIVE_DIR: {my_archivedir}')\n",
    "print(f'RUN_DIR:     {my_rundir}')\n",
    "\n",
    "for index, row in crosswalk.iterrows():\n",
    "    my_casename = f'{prefix}.{row.casename}'\n",
    "\n",
    "    this_paramfile = f\"{pdir}/{row.casename}.nc\"\n",
    "    this_namelist = f\"{ndir}/{row.casename}.txt\"\n",
    "\n",
    "    datetag = datetime.datetime.now().strftime('%y%m%d')\n",
    "    fout = f'{runscript_path}/runscript.{row.casename}.{datetag}'\n",
    "\n",
    "    notes = f'# {datetime.datetime.now().strftime(\"%y-%m-%dT%H:%M:%S\")}\\n# bbuchovecky'\n",
    "\n",
    "    f = open(template_file, 'r')\n",
    "    fdata = f.read()\n",
    "    f.close()\n",
    "\n",
    "    newdata =   fdata.replace('TEMPLATE_CASENAME',   my_casename)\n",
    "    newdata = newdata.replace('TEMPLATE_SRCDIR',     my_srcdir)\n",
    "    newdata = newdata.replace('TEMPLATE_CASEDIR',    my_casedir)\n",
    "    newdata = newdata.replace('TEMPLATE_ARCHDIR',    my_archivedir)\n",
    "    newdata = newdata.replace('TEMPLATE_RUNDIR',     my_rundir)\n",
    "    newdata = newdata.replace('TEMPLATE_PARAMFILE',  this_paramfile)\n",
    "    newdata = newdata.replace('TEMPLATE_NAMELIST',   this_namelist)\n",
    "    newdata = newdata.replace('TEMPLATE_FILENAME',   fout)\n",
    "    newdata = newdata.replace('# INSERT NOTES HERE', notes)\n",
    "\n",
    "    # if f not in glob.glob(f'{runscript_path}/*'):\n",
    "    #     f = open(fout, 'w')\n",
    "    #     f.write(newdata)\n",
    "    #     f.close()\n",
    "    # else:\n",
    "    #     print(\"file already exists\")\n",
    "    \n",
    "    # # Make the script executable\n",
    "    # !chmod +x $fout\n",
    "\n",
    "    \n",
    "\n",
    "!ls -lstr $runscript_path\n",
    "\n",
    "for f in sorted(glob.glob(f'{runscript_path}/*')):\n",
    "    print(f)"
   ]
  },
  {
   "cell_type": "code",
   "execution_count": null,
   "id": "52384ac5",
   "metadata": {},
   "outputs": [],
   "source": []
  }
 ],
 "metadata": {
  "kernelspec": {
   "display_name": "cpl_ppe_co2",
   "language": "python",
   "name": "python3"
  },
  "language_info": {
   "codemirror_mode": {
    "name": "ipython",
    "version": 3
   },
   "file_extension": ".py",
   "mimetype": "text/x-python",
   "name": "python",
   "nbconvert_exporter": "python",
   "pygments_lexer": "ipython3",
   "version": "3.12.10"
  }
 },
 "nbformat": 4,
 "nbformat_minor": 5
}
