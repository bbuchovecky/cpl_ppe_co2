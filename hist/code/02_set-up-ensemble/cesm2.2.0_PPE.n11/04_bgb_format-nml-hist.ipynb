{
 "cells": [
  {
   "cell_type": "raw",
   "id": "adaf7749",
   "metadata": {
    "vscode": {
     "languageId": "raw"
    }
   },
   "source": [
    "Filename:   04_bgb_format-nml-hist.ipynb\n",
    "Author:     Benjamin Buchovecky\n",
    "Project:    cpl_ppe_co2\n",
    "Created on: 06/18/2025"
   ]
  },
  {
   "cell_type": "code",
   "execution_count": 1,
   "id": "94decd91",
   "metadata": {},
   "outputs": [],
   "source": [
    "import os\n",
    "from datetime import datetime\n",
    "import numpy as np\n",
    "import pandas as pd\n",
    "import xarray as xr"
   ]
  },
  {
   "cell_type": "code",
   "execution_count": 15,
   "id": "c2dfdcb3",
   "metadata": {},
   "outputs": [],
   "source": [
    "df = pd.read_csv(\"aerosol_4d_vars.txt\", header=None)\n",
    "vs = []\n",
    "for index, row in df.iterrows():\n",
    "    vs.append(row[0].split(\"(\")[0][6:])"
   ]
  },
  {
   "cell_type": "code",
   "execution_count": 16,
   "id": "3c1e6850",
   "metadata": {},
   "outputs": [
    {
     "name": "stdout",
     "output_type": "stream",
     "text": [
      "'bc_a1','bc_a4','bc_c1','bc_c4','dst_a1','dst_a2','dst_a3','dst_c1','dst_c2','dst_c3','ncl_a1','ncl_a2','ncl_a3','ncl_c1','ncl_c2','ncl_c3','num_a1','num_a2','num_a3','num_a4','num_c1','num_c2','num_c3','num_c4','pom_a1','pom_a4','pom_c1','pom_c4','so4_a1','so4_a2','so4_a3','so4_c1','so4_c2','so4_c3','soa_a1','soa_a2','soa_c1','soa_c2',"
     ]
    }
   ],
   "source": [
    "for v in vs:\n",
    "    print(f\"'{v}',\", end=\"\")"
   ]
  },
  {
   "cell_type": "code",
   "execution_count": null,
   "id": "6175af77",
   "metadata": {},
   "outputs": [],
   "source": [
    "vs = [\n",
    "    \"FLDS\",\n",
    "    \"FLNS\",\n",
    "    \"FSDS\",\n",
    "    \"FSNS\",\n",
    "    \"LHFLX\",\n",
    "    \"SHFLX\",\n",
    "    \"PBLH\",\n",
    "    \n",
    "]"
   ]
  }
 ],
 "metadata": {
  "kernelspec": {
   "display_name": "cpl_ppe_co2",
   "language": "python",
   "name": "python3"
  },
  "language_info": {
   "codemirror_mode": {
    "name": "ipython",
    "version": 3
   },
   "file_extension": ".py",
   "mimetype": "text/x-python",
   "name": "python",
   "nbconvert_exporter": "python",
   "pygments_lexer": "ipython3",
   "version": "3.12.10"
  }
 },
 "nbformat": 4,
 "nbformat_minor": 5
}
