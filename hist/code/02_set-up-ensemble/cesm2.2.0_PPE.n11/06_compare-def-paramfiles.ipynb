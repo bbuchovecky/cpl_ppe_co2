{
 "cells": [
  {
   "cell_type": "raw",
   "id": "8943f86a",
   "metadata": {
    "vscode": {
     "languageId": "raw"
    }
   },
   "source": [
    "Filename:   06_compare-def-paramfiles.ipynb\n",
    "Author:     Benjamin Buchovecky\n",
    "Project:    cpl_ppe_co2\n",
    "Created on: 08/01/2025"
   ]
  },
  {
   "cell_type": "markdown",
   "id": "f4e19c29",
   "metadata": {},
   "source": [
    "# Compare CLM5 and CLM6 parameter files "
   ]
  },
  {
   "cell_type": "code",
   "execution_count": 44,
   "id": "5f46123a",
   "metadata": {},
   "outputs": [],
   "source": [
    "import numpy as np\n",
    "import pandas as pd\n",
    "import xarray as xr"
   ]
  },
  {
   "cell_type": "code",
   "execution_count": 86,
   "id": "c9000dbb",
   "metadata": {},
   "outputs": [],
   "source": [
    "xr.set_options(display_expand_attrs=False, display_expand_data=False);\n",
    "pd.set_option('display.max_rows', 60);"
   ]
  },
  {
   "cell_type": "code",
   "execution_count": 116,
   "id": "b315b30b",
   "metadata": {},
   "outputs": [],
   "source": [
    "clm5_paramfile = \"/glade/u/home/bbuchovecky/projects/cpl_ppe_co2/hist/data/paramfiles/COUP0000.nc\"\n",
    "clm6_paramfile = \"/glade/work/wwieder/modified_inputs/ctsm5.3.041.Nfix_params.v13.c250221_upplim250.nc\"\n",
    "\n",
    "clm5_pfile = xr.open_dataset(clm5_paramfile, decode_timedelta=False)\n",
    "clm6_pfile = xr.open_dataset(clm6_paramfile, decode_timedelta=False)\n",
    "\n",
    "clm5_params = set(clm5_pfile.data_vars)\n",
    "clm6_params = set(clm6_pfile.data_vars)\n",
    "\n",
    "all_params = clm5_params | clm6_params\n",
    "in_both = clm5_params & clm6_params\n",
    "clm5_only = clm5_params - clm6_params\n",
    "clm6_only = clm6_params - clm5_params"
   ]
  },
  {
   "cell_type": "code",
   "execution_count": null,
   "id": "9773cf9d",
   "metadata": {},
   "outputs": [],
   "source": []
  },
  {
   "cell_type": "markdown",
   "id": "3e7a0d33",
   "metadata": {},
   "source": [
    "---"
   ]
  },
  {
   "cell_type": "code",
   "execution_count": null,
   "id": "7f1de7eb",
   "metadata": {},
   "outputs": [],
   "source": []
  },
  {
   "cell_type": "code",
   "execution_count": 202,
   "id": "eb53e520",
   "metadata": {},
   "outputs": [
    {
     "name": "stdout",
     "output_type": "stream",
     "text": [
      "r_mort - diff dims, () -> ('pft',)\n",
      "ndays_on - diff dims, () -> ('pft',)\n",
      "wc2wjb0 - diff dims, () -> ('pft',)\n",
      "jmaxb0 - diff dims, () -> ('pft',)\n"
     ]
    }
   ],
   "source": [
    "diff_dim_params = set()  # the dimensions of the parameter changed between CLM5 and CLM6 (made it PFT-specific)\n",
    "for p in all_params:\n",
    "    if (p in clm5_params) and (p in clm6_params):\n",
    "        if clm5_pfile[p].dims != clm6_pfile[p].dims:\n",
    "            print(p, \"- diff dims,\", clm5_pfile[p].dims, \"->\", clm6_pfile[p].dims)\n",
    "            diff_dim_params.add(p)"
   ]
  },
  {
   "cell_type": "code",
   "execution_count": 203,
   "id": "21d33e51",
   "metadata": {},
   "outputs": [
    {
     "name": "stdout",
     "output_type": "stream",
     "text": [
      "## r_mort Mortality rate\n",
      "CLM5: 0.02\n",
      "CLM6: [0.02 0.02 0.02 0.02 0.02 0.02 0.02 0.02 0.02 0.02 0.02 0.02 0.02 0.02\n",
      " 0.02 0.02 0.02 0.02 0.02 0.02 0.02 0.02 0.02 0.02 0.02 0.02 0.02 0.02\n",
      " 0.02 0.02 0.02 0.02 0.02 0.02 0.02 0.02 0.02 0.02 0.02 0.02 0.02 0.02\n",
      " 0.02 0.02 0.02 0.02 0.02 0.02 0.02 0.02 0.02 0.02 0.02 0.02 0.02 0.02\n",
      " 0.02 0.02 0.02 0.02 0.02 0.02 0.02 0.02 0.02 0.02 0.02 0.02 0.02 0.02\n",
      " 0.02 0.02 0.02 0.02 0.02 0.02 0.02 0.02 0.02]\n",
      "\n",
      "## wc2wjb0 The baseline ratio of rubisco limited rate vs light limited photosynthetic rate (Wc:Wj)\n",
      "CLM5: 0.8054\n",
      "CLM6: [0.8054 0.8054 0.8054 0.8054 0.8054 0.8054 0.8054 0.8054 0.8054 0.8054\n",
      " 0.8054 0.8054 0.8054 0.8054 0.8054 0.8054 0.8054 0.8054 0.8054 0.8054\n",
      " 0.8054 0.8054 0.8054 0.8054 0.8054 0.8054 0.8054 0.8054 0.8054 0.8054\n",
      " 0.8054 0.8054 0.8054 0.8054 0.8054 0.8054 0.8054 0.8054 0.8054 0.8054\n",
      " 0.8054 0.8054 0.8054 0.8054 0.8054 0.8054 0.8054 0.8054 0.8054 0.8054\n",
      " 0.8054 0.8054 0.8054 0.8054 0.8054 0.8054 0.8054 0.8054 0.8054 0.8054\n",
      " 0.8054 0.8054 0.8054 0.8054 0.8054 0.8054 0.8054 0.8054 0.8054 0.8054\n",
      " 0.8054 0.8054 0.8054 0.8054 0.8054 0.8054 0.8054 0.8054 0.8054]\n",
      "\n",
      "## ndays_on Number of days to complete leaf onset\n",
      "CLM5: 30.0\n",
      "CLM6: [30. 30. 30. 30. 30. 30. 30. 30. 30. 30. 30. 30. 30. 30. 30. 30. 30. 30.\n",
      " 30. 30. 30. 30. 30. 30. 30. 30. 30. 30. 30. 30. 30. 30. 30. 30. 30. 30.\n",
      " 30. 30. 30. 30. 30. 30. 30. 30. 30. 30. 30. 30. 30. 30. 30. 30. 30. 30.\n",
      " 30. 30. 30. 30. 30. 30. 30. 30. 30. 30. 30. 30. 30. 30. 30. 30. 30. 30.\n",
      " 30. 30. 30. 30. 30. 30. 30.]\n",
      "\n",
      "## jmaxb0 Baseline proportion of nitrogen allocated for electron transport\n",
      "CLM5: 0.0311\n",
      "CLM6: [   nan 0.0311 0.0311 0.0311 0.0311 0.0311 0.0311 0.0311 0.0311 0.0311\n",
      " 0.0311 0.0311 0.0311 0.0311 0.0311 0.0311 0.0311 0.0311 0.0311 0.0311\n",
      " 0.0311 0.0311 0.0311 0.0311 0.0311 0.0311 0.0311 0.0311 0.0311 0.0311\n",
      " 0.0311 0.0311 0.0311 0.0311 0.0311 0.0311 0.0311 0.0311 0.0311 0.0311\n",
      " 0.0311 0.0311 0.0311 0.0311 0.0311 0.0311 0.0311 0.0311 0.0311 0.0311\n",
      " 0.0311 0.0311 0.0311 0.0311 0.0311 0.0311 0.0311 0.0311 0.0311 0.0311\n",
      " 0.0311 0.0311 0.0311 0.0311 0.0311 0.0311 0.0311 0.0311 0.0311 0.0311\n",
      " 0.0311 0.0311 0.0311 0.0311 0.0311 0.0311 0.0311 0.0311 0.0311]\n",
      "\n"
     ]
    }
   ],
   "source": [
    "for p in diff_dim_params:\n",
    "    print(\"##\",p,clm5_pfile[p].attrs[\"long_name\"])\n",
    "    print(\"CLM5:\", clm5_pfile[p].values)\n",
    "    print(\"CLM6:\", clm6_pfile[p].values)\n",
    "    print()"
   ]
  },
  {
   "cell_type": "code",
   "execution_count": null,
   "id": "c70ba860",
   "metadata": {},
   "outputs": [],
   "source": []
  },
  {
   "cell_type": "markdown",
   "id": "809441db",
   "metadata": {},
   "source": [
    "---"
   ]
  },
  {
   "cell_type": "code",
   "execution_count": 204,
   "id": "cd80200e",
   "metadata": {},
   "outputs": [],
   "source": [
    "def param_set_to_dataframe(this_set, this_pfile):\n",
    "    param = list()\n",
    "    long_name = list()\n",
    "    units = list()\n",
    "\n",
    "    for p in sorted(list(this_set)):\n",
    "        param.append(p)\n",
    "        long_name.append(this_pfile[p].attrs[\"long_name\"])\n",
    "        if \"units\" in this_pfile[p].attrs:\n",
    "            units.append(this_pfile[p].attrs[\"units\"])\n",
    "        else:\n",
    "            units.append(\"\")\n",
    "\n",
    "    this_dataframe = pd.DataFrame(\n",
    "        data=np.array([param, long_name, units]).T,\n",
    "        columns=[\"param\", \"long_name\", \"units\"]\n",
    "    )\n",
    "    return this_dataframe"
   ]
  },
  {
   "cell_type": "code",
   "execution_count": 205,
   "id": "5fd87ce3",
   "metadata": {},
   "outputs": [
    {
     "name": "stdout",
     "output_type": "stream",
     "text": [
      "number of paramters in CLM5 and not in CLM6: 18\n"
     ]
    }
   ],
   "source": [
    "clm5_only_pd = param_set_to_dataframe(clm5_only, clm5_pfile)\n",
    "\n",
    "print(f\"number of paramters in CLM5 and not in CLM6: {len(clm5_only)}\")\n",
    "clm5_only_pd;"
   ]
  },
  {
   "cell_type": "code",
   "execution_count": 206,
   "id": "61ac9028",
   "metadata": {},
   "outputs": [
    {
     "name": "stdout",
     "output_type": "stream",
     "text": [
      "number of paramters in CLM6 and not in CLM5: 77\n"
     ]
    }
   ],
   "source": [
    "clm6_only_pd = param_set_to_dataframe(clm6_only, clm6_pfile)\n",
    "\n",
    "print(f\"number of paramters in CLM6 and not in CLM5: {len(clm6_only)}\")\n",
    "clm6_only_pd;"
   ]
  },
  {
   "cell_type": "code",
   "execution_count": null,
   "id": "6970758e",
   "metadata": {},
   "outputs": [],
   "source": []
  },
  {
   "cell_type": "code",
   "execution_count": 207,
   "id": "0098b215",
   "metadata": {},
   "outputs": [],
   "source": [
    "in_both_clm5_pd = param_set_to_dataframe(in_both, clm5_pfile)\n",
    "in_both_clm6_pd = param_set_to_dataframe(in_both, clm6_pfile)"
   ]
  },
  {
   "cell_type": "code",
   "execution_count": 208,
   "id": "e4db1c3f",
   "metadata": {},
   "outputs": [
    {
     "data": {
      "text/plain": [
       "'Momentum roughness length for soils, glacier, wetland'"
      ]
     },
     "execution_count": 208,
     "metadata": {},
     "output_type": "execute_result"
    }
   ],
   "source": [
    "in_both_clm5_pd.loc[in_both_clm5_pd[\"param\"]==\"zlnd\"][\"long_name\"].item()"
   ]
  },
  {
   "cell_type": "code",
   "execution_count": 209,
   "id": "45f4acd5",
   "metadata": {},
   "outputs": [
    {
     "data": {
      "text/plain": [
       "'Momentum roughness length for soils and wetland'"
      ]
     },
     "execution_count": 209,
     "metadata": {},
     "output_type": "execute_result"
    }
   ],
   "source": [
    "in_both_clm6_pd.loc[in_both_clm6_pd[\"param\"]==\"zlnd\"][\"long_name\"].item()"
   ]
  },
  {
   "cell_type": "code",
   "execution_count": null,
   "id": "45e0e188",
   "metadata": {},
   "outputs": [],
   "source": []
  },
  {
   "cell_type": "code",
   "execution_count": 210,
   "id": "7c972276",
   "metadata": {},
   "outputs": [],
   "source": [
    "clm5_only_pd[\"version\"] = \"CLM5\"\n",
    "clm6_only_pd[\"version\"] = \"CLM6\"\n",
    "in_both_clm6_pd[\"version\"] = \"both\"\n",
    "in_both_clm5_pd[\"version\"] = \"both\"\n",
    "\n",
    "clm5_only_pd[\"flag\"] = \"\"\n",
    "clm6_only_pd[\"flag\"] = \"\"\n",
    "in_both_clm6_pd[\"flag\"] = \"\"\n",
    "in_both_clm5_pd[\"flag\"] = \"\"\n",
    "\n",
    "clm5_only_pd[\"notes\"] = \"\"\n",
    "clm6_only_pd[\"notes\"] = \"\"\n",
    "in_both_clm6_pd[\"notes\"] = \"\"\n",
    "in_both_clm5_pd[\"notes\"] = \"\"\n",
    "\n",
    "combined_pd = pd.concat([in_both_clm6_pd, clm6_only_pd, clm5_only_pd], ignore_index=True)\n",
    "combined_pd = combined_pd.sort_values(by=\"long_name\")"
   ]
  },
  {
   "cell_type": "code",
   "execution_count": 211,
   "id": "cd1fd044",
   "metadata": {},
   "outputs": [
    {
     "data": {
      "text/plain": [
       "{'tau_l1': 'bgc_tau_l1',\n",
       " 'tau_l2_l3': 'bgc_tau_l2_l3',\n",
       " 'tau_s1': 'bgc_tau_s1',\n",
       " 'tau_s2': 'bgc_tau_s2',\n",
       " 'tau_s3': 'bgc_tau_s3',\n",
       " 'cn_s1_bgc': 'bgc_cn_s1',\n",
       " 'cn_s2_bgc': 'bgc_cn_s2',\n",
       " 'cn_s3_bgc': 'bgc_cn_s3',\n",
       " 'cwd_fcel': 'bgc_cwd_fcel',\n",
       " 'rf_s2s3_bgc': 'bgc_rf_s2s3',\n",
       " 'rf_l1s1_bgc': 'bgc_rf_l1s1',\n",
       " 'rf_s2s1_bgc': 'bgc_rf_s2s1',\n",
       " 'rf_s3s1_bgc': 'bgc_rf_s3s1',\n",
       " 'rf_cwdl2_bgc': 'rf_cwdl2',\n",
       " 'rf_cwdl3_bgc': 'bgc_rf_cwdl3',\n",
       " 'rf_l3s2_bgc': 'bgc_rf_l3s2',\n",
       " 'rf_l2s1_bgc': 'bgc_rf_l2s1'}"
      ]
     },
     "execution_count": 211,
     "metadata": {},
     "output_type": "execute_result"
    }
   ],
   "source": [
    "duplicate_long_names = combined_pd[combined_pd.duplicated(subset=[\"long_name\"], keep=False)]\n",
    "\n",
    "temp = duplicate_long_names[duplicate_long_names[\"version\"]!=\"both\"].sort_values(by=[\"long_name\", \"version\"])\n",
    "temp = temp[~temp[\"param\"].str.contains(\"scvng\")]\n",
    "\n",
    "duplicate_clm5 = temp[temp[\"version\"]==\"CLM5\"]\n",
    "duplicate_clm6 = temp[temp[\"version\"]==\"CLM6\"]\n",
    "\n",
    "clm5_to_clm6_rename = dict(zip(duplicate_clm5[\"param\"], duplicate_clm6[\"param\"]))\n",
    "clm5_to_clm6_rename"
   ]
  },
  {
   "cell_type": "code",
   "execution_count": null,
   "id": "42078120",
   "metadata": {},
   "outputs": [],
   "source": []
  },
  {
   "cell_type": "markdown",
   "id": "96c88b8d",
   "metadata": {},
   "source": [
    "---"
   ]
  },
  {
   "cell_type": "code",
   "execution_count": null,
   "id": "a5869896",
   "metadata": {},
   "outputs": [],
   "source": []
  },
  {
   "cell_type": "code",
   "execution_count": 232,
   "id": "8e7b73ba",
   "metadata": {},
   "outputs": [],
   "source": [
    "new_pfile = clm5_pfile.copy(deep=True)\n",
    "\n",
    "for p in clm5_params:\n",
    "    if p in clm5_to_clm6_rename.keys():\n",
    "        new_pfile[p] = clm6_pfile[clm5_to_clm6_rename[p]]\n",
    "    \n",
    "    elif (p in clm6_params) and (clm5_pfile[p].dims == clm6_pfile[p].dims):\n",
    "        new_pfile[p] = clm6_pfile[p]\n",
    "\n",
    "new_pfile.attrs[\"note\"] = \"BGB: \"+clm6_paramfile\n",
    "\n",
    "new_pfile.to_netcdf(\"/glade/u/home/bbuchovecky/projects/cpl_ppe_co2/hist/data/paramfiles/mod_ctsm5.3.041.Nfix_params.v13.c250221_upplim250.nc\")"
   ]
  },
  {
   "cell_type": "code",
   "execution_count": 226,
   "id": "ba435eec",
   "metadata": {},
   "outputs": [
    {
     "name": "stdout",
     "output_type": "stream",
     "text": [
      "Number of variables with differences: 31\n",
      "['akc_active', 'akn_active', 'c3psn', 'cc_leaf', 'cc_other', 'ekc_active', 'ekn_active', 'fm_droot', 'fm_dstem', 'fm_leaf', 'fm_lroot', 'fm_lstem', 'fm_other', 'fm_root', 'froot_leaf', 'fsr_pft', 'kc_nonmyc', 'kn_nonmyc', 'leafcn', 'medlynslope', 'prh30', 'rf_cwdl2_bgc', 'rf_cwdl3_bgc', 'rswf_max', 'rswf_min', 'scvng_fct_mlt_sf', 'slatop', 'snw_rds_refrz', 'xdrdt', 'zlnd', 'zsno']\n"
     ]
    }
   ],
   "source": [
    "diff_params = []\n",
    "for p in clm5_pfile.data_vars:\n",
    "    if p in new_pfile.data_vars:\n",
    "        if not np.allclose(clm5_pfile[p].values, new_pfile[p].values, equal_nan=True):\n",
    "            diff_params.append(p)\n",
    "    else:\n",
    "        diff_params.append(p)\n",
    "\n",
    "print(f\"Number of variables with differences: {len(diff_params)}\")\n",
    "print(diff_params)"
   ]
  },
  {
   "cell_type": "code",
   "execution_count": 230,
   "id": "8610c82a",
   "metadata": {},
   "outputs": [
    {
     "data": {
      "text/plain": [
       "'/glade/work/wwieder/modified_inputs/ctsm5.3.041.Nfix_params.v13.c250221_upplim250.nc'"
      ]
     },
     "execution_count": 230,
     "metadata": {},
     "output_type": "execute_result"
    }
   ],
   "source": [
    "clm6_paramfile"
   ]
  },
  {
   "cell_type": "code",
   "execution_count": null,
   "id": "f25b71fc",
   "metadata": {},
   "outputs": [],
   "source": []
  },
  {
   "cell_type": "code",
   "execution_count": null,
   "id": "f85c42a4",
   "metadata": {},
   "outputs": [],
   "source": []
  },
  {
   "cell_type": "markdown",
   "id": "b80353e9",
   "metadata": {},
   "source": [
    "---"
   ]
  },
  {
   "cell_type": "code",
   "execution_count": 251,
   "id": "27376e10",
   "metadata": {},
   "outputs": [],
   "source": [
    "clm5_oaat_csv = pd.read_csv(\"/glade/u/home/bbuchovecky/projects/cpl_ppe_co2/hist/code/02_set-up-ensemble/clm5_paramranges.csv\")\n",
    "clm5_nml_params = set(clm5_oaat_csv.loc[clm5_oaat_csv[\"location\"]==\"N\"].name)\n",
    "clm5_nml = clm5_oaat_csv.loc[clm5_oaat_csv[\"location\"]==\"N\"]"
   ]
  },
  {
   "cell_type": "code",
   "execution_count": 252,
   "id": "9e0cb80e",
   "metadata": {},
   "outputs": [
    {
     "name": "stdout",
     "output_type": "stream",
     "text": [
      "## fresh_snw_rds_max\n",
      "CLM5: 204.526\n",
      "CLM6: 400.0\n",
      "## maximum_leaf_wetted_fraction\n",
      "CLM5: 0.05\n",
      "CLM6: 0.05\n",
      "## upplim_destruct_metamorph\n",
      "CLM5: 175\n",
      "CLM6: 250\n",
      "## decomp_depth_efolding\n",
      "CLM5: 10\n",
      "CLM6: 10.0\n",
      "## jmaxb1\n",
      "CLM5: 0.17\n",
      "CLM6: [ nan 0.17 0.17 0.17 0.17 0.17 0.17 0.17 0.17 0.17 0.17 0.17 0.17 0.17\n",
      " 0.17 0.17 0.17 0.17 0.17 0.17 0.17 0.17 0.17 0.17 0.17 0.17 0.17 0.17\n",
      " 0.17 0.17 0.17 0.17 0.17 0.17 0.17 0.17 0.17 0.17 0.17 0.17 0.17 0.17\n",
      " 0.17 0.17 0.17 0.17 0.17 0.17 0.17 0.17 0.17 0.17 0.17 0.17 0.17 0.17\n",
      " 0.17 0.17 0.17 0.17 0.17 0.17 0.17 0.17 0.17 0.17 0.17 0.17 0.17 0.17\n",
      " 0.17 0.17 0.17 0.17 0.17 0.17 0.17 0.17 0.17]\n",
      "## interception_fraction\n",
      "CLM5: 1\n",
      "CLM6: 1.0\n"
     ]
    }
   ],
   "source": [
    "for p in (clm5_nml_params & clm6_params):\n",
    "    print(\"##\", p)\n",
    "    print(\"CLM5:\", clm5_nml[clm5_nml[\"name\"]==p][\"CLM5 Default Value(s)\"].item())\n",
    "    print(\"CLM6:\", clm6_pfile[p].values)"
   ]
  },
  {
   "cell_type": "code",
   "execution_count": null,
   "id": "46417a1c",
   "metadata": {},
   "outputs": [],
   "source": []
  }
 ],
 "metadata": {
  "kernelspec": {
   "display_name": "cpl_ppe_co2",
   "language": "python",
   "name": "python3"
  },
  "language_info": {
   "codemirror_mode": {
    "name": "ipython",
    "version": 3
   },
   "file_extension": ".py",
   "mimetype": "text/x-python",
   "name": "python",
   "nbconvert_exporter": "python",
   "pygments_lexer": "ipython3",
   "version": "3.12.10"
  }
 },
 "nbformat": 4,
 "nbformat_minor": 5
}
