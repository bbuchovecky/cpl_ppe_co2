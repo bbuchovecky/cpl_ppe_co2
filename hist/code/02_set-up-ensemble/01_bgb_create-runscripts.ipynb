{
 "cells": [
  {
   "cell_type": "raw",
   "id": "0dd2af9b",
   "metadata": {
    "vscode": {
     "languageId": "raw"
    }
   },
   "source": [
    "Filename:   01_bgb_create-runscripts.ipynb\n",
    "Author:     Benjamin Buchovecky\n",
    "Project:    cpl_ppe_co2\n",
    "Created on: 04/10/2025"
   ]
  },
  {
   "cell_type": "markdown",
   "id": "ae3f60b6",
   "metadata": {},
   "source": [
    "# 1. Setup"
   ]
  },
  {
   "cell_type": "code",
   "execution_count": 1,
   "id": "e4de12ed",
   "metadata": {},
   "outputs": [
    {
     "name": "stdout",
     "output_type": "stream",
     "text": [
      "Python implementation: CPython\n",
      "Python version       : 3.12.4\n",
      "IPython version      : 8.26.0\n",
      "\n",
      "conda environment: cpl_ppe_co2\n",
      "\n",
      "pandas: 2.2.2\n",
      "numpy : 2.0.1\n",
      "sys   : 3.12.4 | packaged by conda-forge | (main, Jun 17 2024, 10:23:07) [GCC 12.3.0]\n",
      "\n"
     ]
    }
   ],
   "source": [
    "%load_ext watermark\n",
    "\n",
    "import glob\n",
    "import datetime\n",
    "import numpy as np\n",
    "import pandas as pd\n",
    "\n",
    "%watermark -iv -co -v"
   ]
  },
  {
   "cell_type": "markdown",
   "id": "09ea37cf",
   "metadata": {},
   "source": [
    "# 2. Define configuration and path management"
   ]
  },
  {
   "cell_type": "code",
   "execution_count": 5,
   "id": "b9fef6d9",
   "metadata": {},
   "outputs": [
    {
     "name": "stdout",
     "output_type": "stream",
     "text": [
      "CESM version: cesm2.2.0\n",
      "CLM version:  branch_tags/PPE.n11_ctsm5.1.dev030\n",
      "CAM version:  cam_cesm2_2_rel_02\n"
     ]
    }
   ],
   "source": [
    "# Source code to use to run model\n",
    "my_sourcecode = '/glade/u/home/bbuchovecky/cesm_source/cesm_coupled_PPEn11'\n",
    "print('CESM version:', end=' ')\n",
    "!cd $my_sourcecode && git describe --tags\n",
    "print('CLM version: ', end=' ')\n",
    "!cd $my_sourcecode/components/clm && git describe --tags\n",
    "print('CAM version: ', end=' ')\n",
    "!cd $my_sourcecode/components/cam && git describe --tags\n",
    "\n",
    "# Where you want to put the new folder for the case (where you change things like the \n",
    "# namelist, how long to run it, then do case.build, case.submit etc.)\n",
    "my_casedir = '/glade/u/home/bbuchovecky/cesm_runs/cases'\n",
    "\n",
    "# Where the output of the runs should be archived\n",
    "# probably /glade/scratch/USERNAME/archive/\n",
    "my_archivedir = '/glade/derecho/scratch/bbuchovecky/archive'\n",
    "\n",
    "# Where to put the run folder (where log files will go, etc.)\n",
    "# probably /glade/scratch/USERNAME\n",
    "my_rundir = '/glade/derecho/scratch/bbuchovecky'\n",
    "\n",
    "# Where you want to save the runscripts that this script will generate\n",
    "# this can be anything, just make sure the folder exists!\n",
    "runscript_path = '/glade/u/home/bbuchovecky/projects/cpl_ppe_co2/hist/code/03_run-scripts'\n",
    "\n",
    "# Where to find ensemble member parameter files\n",
    "paramfile_path = 'TEMPORARY'\n",
    "\n",
    "# Where to find ensemble member namelist files\n",
    "namelistmod_path = 'TEMPORARY'\n",
    "\n",
    "# The template to use to make the runscripts\n",
    "template_file = './run_script_fhist_ppe_TEMPLATE.sh'"
   ]
  },
  {
   "cell_type": "code",
   "execution_count": null,
   "id": "f77b10bb",
   "metadata": {},
   "outputs": [],
   "source": []
  },
  {
   "cell_type": "markdown",
   "id": "45ffd861",
   "metadata": {},
   "source": [
    "# 3. Get PPE details"
   ]
  },
  {
   "cell_type": "code",
   "execution_count": null,
   "id": "ff29594a",
   "metadata": {},
   "outputs": [],
   "source": []
  },
  {
   "cell_type": "code",
   "execution_count": null,
   "id": "86c936ef",
   "metadata": {},
   "outputs": [],
   "source": []
  },
  {
   "cell_type": "markdown",
   "id": "2cd33a81",
   "metadata": {},
   "source": [
    "# 4. Generate run scripts"
   ]
  },
  {
   "cell_type": "code",
   "execution_count": 85,
   "id": "8d7bf35b",
   "metadata": {},
   "outputs": [
    {
     "name": "stdout",
     "output_type": "stream",
     "text": [
      "run_script_HST_CPL000.sh\n",
      "run_script_SSP_CPL000.sh\n",
      "runscript_f.e22.FHIST_BGC.f19_g17.SSP370.000.sh\n",
      "runscript_f.e22.\n"
     ]
    }
   ],
   "source": [
    "print('run_script_HST_CPL000.sh')\n",
    "print('run_script_SSP_CPL000.sh')\n",
    "print('runscript_f.e22.FHIST_BGC.f19_g17.SSP370.000.sh')\n",
    "print('runscript_f.e22.')"
   ]
  },
  {
   "cell_type": "code",
   "execution_count": null,
   "id": "778fcb25",
   "metadata": {},
   "outputs": [
    {
     "name": "stdout",
     "output_type": "stream",
     "text": [
      "/glade/u/home/bbuchovecky/projects/cpl_ppe_co2/hist/code/03_run-scripts/run_script_hst_ppe_20250412.sh\n"
     ]
    }
   ],
   "source": [
    "my_casename = 'test_HST'\n",
    "this_paramfile = 'test'\n",
    "this_namelist = 'test'\n",
    "\n",
    "datetag = datetime.datetime.now().strftime('%Y%m%d')\n",
    "fout = f'{runscript_path}/run_script_hst_ppe_{datetag}.sh'\n",
    "\n",
    "f = open(template_file, 'r')\n",
    "fdata = f.read()\n",
    "f.close()\n",
    "\n",
    "newdata = fdata.replace('TEMPLATE_CASENAME', my_casename)\n",
    "newdata = newdata.replace('TEMPLATE_SOURCECODE', my_sourcecode)\n",
    "newdata = newdata.replace('TEMPLATE_CASEDIR', my_casedir)\n",
    "newdata = newdata.replace('TEMPLATE_ARCHDIR', my_archivedir)\n",
    "newdata = newdata.replace('TEMPLATE_RUNDIR', my_rundir)\n",
    "newdata = newdata.replace('TEMPLATE_PARAMFILE', this_paramfile)\n",
    "newdata = newdata.replace('TEMPLATE_NAMELIST', this_namelist)\n",
    "newdata = newdata.replace('TEMPLATE_FILENAME', fout)\n",
    "\n",
    "f = open(fout, 'w')\n",
    "f.write(newdata)\n",
    "f.close()\n",
    "\n",
    "# Make the script executable\n",
    "!chmod +x $fout\n",
    "\n",
    "for f in sorted(glob.glob(f'{runscript_path}/*')):\n",
    "    print(f)"
   ]
  },
  {
   "cell_type": "code",
   "execution_count": null,
   "id": "fb462112",
   "metadata": {},
   "outputs": [],
   "source": []
  }
 ],
 "metadata": {
  "kernelspec": {
   "display_name": "cpl_ppe_co2",
   "language": "python",
   "name": "python3"
  },
  "language_info": {
   "codemirror_mode": {
    "name": "ipython",
    "version": 3
   },
   "file_extension": ".py",
   "mimetype": "text/x-python",
   "name": "python",
   "nbconvert_exporter": "python",
   "pygments_lexer": "ipython3",
   "version": "3.12.4"
  }
 },
 "nbformat": 4,
 "nbformat_minor": 5
}
