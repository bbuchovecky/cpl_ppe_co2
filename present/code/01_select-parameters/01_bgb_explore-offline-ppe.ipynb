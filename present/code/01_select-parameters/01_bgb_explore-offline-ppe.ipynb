{
 "cells": [
  {
   "cell_type": "raw",
   "metadata": {
    "vscode": {
     "languageId": "raw"
    }
   },
   "source": [
    "Filename:   01_bgb_explore-offline-ppe.ipynb\n",
    "Author:     Benjamin Buchovecky\n",
    "Project:    cpl_ppe_co2\n",
    "Created on: 07/29/2024"
   ]
  },
  {
   "cell_type": "markdown",
   "metadata": {},
   "source": [
    "# Explore the offline CLM5 PPEs\n",
    "\n",
    "**Goals:**\n",
    "- match ensemble member to parameter perturbation\n",
    "- load ensemble output "
   ]
  },
  {
   "cell_type": "markdown",
   "metadata": {},
   "source": [
    "# Setup"
   ]
  },
  {
   "cell_type": "code",
   "execution_count": 47,
   "metadata": {},
   "outputs": [
    {
     "name": "stdout",
     "output_type": "stream",
     "text": [
      "Python implementation: CPython\n",
      "Python version       : 3.12.4\n",
      "IPython version      : 8.26.0\n",
      "\n",
      "conda environment: cpl_ppe_co2\n",
      "\n",
      "pandas    : 2.2.2\n",
      "matplotlib: 3.9.1\n",
      "numpy     : 2.0.1\n",
      "sys       : 3.12.4 | packaged by conda-forge | (main, Jun 17 2024, 10:23:07) [GCC 12.3.0]\n",
      "xarray    : 2024.6.0\n",
      "\n"
     ]
    }
   ],
   "source": [
    "%load_ext watermark\n",
    "%load_ext autoreload\n",
    "\n",
    "import glob\n",
    "\n",
    "import numpy as np\n",
    "import pandas as pd\n",
    "import xarray as xr\n",
    "\n",
    "import matplotlib as mpl\n",
    "import matplotlib.pyplot as plt\n",
    "\n",
    "%watermark -iv -co -v"
   ]
  },
  {
   "cell_type": "code",
   "execution_count": 32,
   "metadata": {},
   "outputs": [],
   "source": [
    "# Set matplotlib inline figure dpi\n",
    "mpl.rcParams['figure.dpi'] = 120"
   ]
  },
  {
   "cell_type": "markdown",
   "metadata": {},
   "source": [
    "# Parameter perturbations"
   ]
  },
  {
   "cell_type": "code",
   "execution_count": 53,
   "metadata": {},
   "outputs": [],
   "source": [
    "param = pd.read_csv('/glade/u/home/djk2120/oaat_clm5_ppe/pyth/survkey.csv')"
   ]
  },
  {
   "cell_type": "code",
   "execution_count": 54,
   "metadata": {},
   "outputs": [
    {
     "data": {
      "text/html": [
       "<div>\n",
       "<style scoped>\n",
       "    .dataframe tbody tr th:only-of-type {\n",
       "        vertical-align: middle;\n",
       "    }\n",
       "\n",
       "    .dataframe tbody tr th {\n",
       "        vertical-align: top;\n",
       "    }\n",
       "\n",
       "    .dataframe thead th {\n",
       "        text-align: right;\n",
       "    }\n",
       "</style>\n",
       "<table border=\"1\" class=\"dataframe\">\n",
       "  <thead>\n",
       "    <tr style=\"text-align: right;\">\n",
       "      <th></th>\n",
       "      <th>param</th>\n",
       "      <th>mins</th>\n",
       "      <th>maxs</th>\n",
       "    </tr>\n",
       "  </thead>\n",
       "  <tbody>\n",
       "    <tr>\n",
       "      <th>0</th>\n",
       "      <td>default</td>\n",
       "      <td>OAAT0000</td>\n",
       "      <td>OAAT0000</td>\n",
       "    </tr>\n",
       "    <tr>\n",
       "      <th>1</th>\n",
       "      <td>taulnir</td>\n",
       "      <td>OAAT0001</td>\n",
       "      <td>OAAT0002</td>\n",
       "    </tr>\n",
       "    <tr>\n",
       "      <th>2</th>\n",
       "      <td>taulvis</td>\n",
       "      <td>OAAT0003</td>\n",
       "      <td>OAAT0004</td>\n",
       "    </tr>\n",
       "    <tr>\n",
       "      <th>3</th>\n",
       "      <td>tausnir</td>\n",
       "      <td>OAAT0005</td>\n",
       "      <td>OAAT0006</td>\n",
       "    </tr>\n",
       "    <tr>\n",
       "      <th>4</th>\n",
       "      <td>tausvis</td>\n",
       "      <td>OAAT0007</td>\n",
       "      <td>OAAT0008</td>\n",
       "    </tr>\n",
       "    <tr>\n",
       "      <th>...</th>\n",
       "      <td>...</td>\n",
       "      <td>...</td>\n",
       "      <td>...</td>\n",
       "    </tr>\n",
       "    <tr>\n",
       "      <th>189</th>\n",
       "      <td>C2_liq_Brun89</td>\n",
       "      <td>OAAT0397</td>\n",
       "      <td>OAAT0398</td>\n",
       "    </tr>\n",
       "    <tr>\n",
       "      <th>190</th>\n",
       "      <td>sand_pf</td>\n",
       "      <td>OAAT0458</td>\n",
       "      <td>OAAT0459</td>\n",
       "    </tr>\n",
       "    <tr>\n",
       "      <th>191</th>\n",
       "      <td>clay_pf</td>\n",
       "      <td>OAAT0460</td>\n",
       "      <td>OAAT0461</td>\n",
       "    </tr>\n",
       "    <tr>\n",
       "      <th>192</th>\n",
       "      <td>zbedrock_sf</td>\n",
       "      <td>OAAT0469</td>\n",
       "      <td>OAAT0470</td>\n",
       "    </tr>\n",
       "    <tr>\n",
       "      <th>193</th>\n",
       "      <td>decomp_depth_efolding</td>\n",
       "      <td>OAAT0471</td>\n",
       "      <td>OAAT0000</td>\n",
       "    </tr>\n",
       "  </tbody>\n",
       "</table>\n",
       "<p>194 rows × 3 columns</p>\n",
       "</div>"
      ],
      "text/plain": [
       "                     param      mins      maxs\n",
       "0                  default  OAAT0000  OAAT0000\n",
       "1                  taulnir  OAAT0001  OAAT0002\n",
       "2                  taulvis  OAAT0003  OAAT0004\n",
       "3                  tausnir  OAAT0005  OAAT0006\n",
       "4                  tausvis  OAAT0007  OAAT0008\n",
       "..                     ...       ...       ...\n",
       "189          C2_liq_Brun89  OAAT0397  OAAT0398\n",
       "190                sand_pf  OAAT0458  OAAT0459\n",
       "191                clay_pf  OAAT0460  OAAT0461\n",
       "192            zbedrock_sf  OAAT0469  OAAT0470\n",
       "193  decomp_depth_efolding  OAAT0471  OAAT0000\n",
       "\n",
       "[194 rows x 3 columns]"
      ]
     },
     "execution_count": 54,
     "metadata": {},
     "output_type": "execute_result"
    }
   ],
   "source": [
    "param"
   ]
  },
  {
   "cell_type": "code",
   "execution_count": null,
   "metadata": {},
   "outputs": [],
   "source": []
  }
 ],
 "metadata": {
  "kernelspec": {
   "display_name": "cpl_ppe_co2",
   "language": "python",
   "name": "python3"
  },
  "language_info": {
   "codemirror_mode": {
    "name": "ipython",
    "version": 3
   },
   "file_extension": ".py",
   "mimetype": "text/x-python",
   "name": "python",
   "nbconvert_exporter": "python",
   "pygments_lexer": "ipython3",
   "version": "3.12.4"
  }
 },
 "nbformat": 4,
 "nbformat_minor": 2
}
